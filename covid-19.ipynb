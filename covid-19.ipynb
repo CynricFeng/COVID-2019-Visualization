{
 "metadata": {
  "language_info": {
   "codemirror_mode": {
    "name": "ipython",
    "version": 3
   },
   "file_extension": ".py",
   "mimetype": "text/x-python",
   "name": "python",
   "nbconvert_exporter": "python",
   "pygments_lexer": "ipython3",
   "version": "3.7.5-final"
  },
  "orig_nbformat": 2,
  "kernelspec": {
   "name": "python_defaultSpec_1600784911940",
   "display_name": "Python 3.7.5 64-bit"
  }
 },
 "nbformat": 4,
 "nbformat_minor": 2,
 "cells": [
  {
   "source": [
    "# COVID-2019\n",
    "\n"
   ],
   "cell_type": "markdown",
   "metadata": {}
  },
  {
   "cell_type": "code",
   "execution_count": 14,
   "metadata": {},
   "outputs": [],
   "source": [
    "import json\n",
    "from urllib import request\n",
    "import pandas as pd\n",
    "import csv\n",
    "from tqdm import tqdm"
   ]
  },
  {
   "cell_type": "code",
   "execution_count": 15,
   "metadata": {
    "tags": []
   },
   "outputs": [
    {
     "output_type": "stream",
     "name": "stderr",
     "text": "100%|██████████| 297/297 [11:18<00:00,  2.29s/it]\n"
    }
   ],
   "source": [
    "# get the time list\n",
    "from datetime import datetime\n",
    "def get_datelist(beginDate, endDate):\n",
    "    date_l=[datetime.strftime(x,'%Y-%m-%d') for x in list(pd.date_range(start=beginDate, end=endDate))]\n",
    "    return date_l\n",
    "\n",
    "# get the data by date\n",
    "def get_raw_data(date):\n",
    "    url = \"https://raw.githubusercontent.com/canghailan/Wuhan-2019-nCoV/master/Data/\" + date + \".json\"\n",
    "    req = request.Request(url)\n",
    "    response = request.urlopen(req)\n",
    "    html = response.read()\n",
    "    # html = html.decode('utf-8')\n",
    "    data = json.loads(html)\n",
    "    return data\n",
    "\n",
    "date_list = get_datelist('2019-12-01', '2020-09-22')\n",
    "\n",
    "data_list = []\n",
    "for i in tqdm(range(len(date_list))):\n",
    "    data_list.append(get_raw_data(date_list[i]))"
   ]
  },
  {
   "cell_type": "code",
   "execution_count": 16,
   "metadata": {
    "tags": []
   },
   "outputs": [],
   "source": [
    "# init all country's list\n",
    "confirmed = {}\n",
    "cured = {}\n",
    "dead = {}\n",
    "def init_all_country(raw):\n",
    "    # raw = json.loads(str)\n",
    "    for data in raw:\n",
    "        country = data['country']\n",
    "        if country not in confirmed :\n",
    "            confirmed[country] = [0]\n",
    "            cured[country] = [0]\n",
    "            dead[country] = [0]\n",
    "    return \n",
    "\n",
    "# parse the data\n",
    "def get_all_country(raw):\n",
    "    # raw = json.loads(str)\n",
    "    for i in confirmed :\n",
    "        confirmed[i].append(0)\n",
    "    for i in cured:\n",
    "        cured[i].append(0)\n",
    "    for i in dead:\n",
    "        dead[i].append(0)\n",
    "\n",
    "    for data in raw:\n",
    "        country = data['country']\n",
    "        confirmed[country][-1] += data['confirmed']\n",
    "        cured[country][-1] += data['cured']\n",
    "        dead[country][-1] += data['dead']\n"
   ]
  },
  {
   "cell_type": "code",
   "execution_count": 17,
   "metadata": {
    "tags": []
   },
   "outputs": [],
   "source": [
    "confirmed = {}\n",
    "cured = {}\n",
    "dead = {}\n",
    "\n",
    "for i in range(len(data_list)):\n",
    "    init_all_country(data_list[i])\n",
    "\n",
    "for i in range(len(data_list)):\n",
    "    get_all_country(data_list[i])\n"
   ]
  },
  {
   "cell_type": "code",
   "execution_count": 18,
   "metadata": {
    "tags": []
   },
   "outputs": [],
   "source": [
    "# print(confirmed)\n",
    "\n",
    "index_date_list = get_datelist('2019-11-30', '2020-09-22')\n",
    "confirmed_df = pd.DataFrame(confirmed, index=index_date_list)\n",
    "cured_df = pd.DataFrame(cured, index=index_date_list)\n",
    "dead_df = pd.DataFrame(dead, index=index_date_list)\n",
    "\n",
    "confirmed_df.head(3)\n",
    " \n",
    "confirmed_df.to_csv('./data/covid19_confirmed.csv')\n",
    "cured_df.to_csv('./data/covid19_cured.csv')\n",
    "dead_df.to_csv('./data/covid19_dead.csv')"
   ]
  },
  {
   "cell_type": "code",
   "execution_count": 19,
   "metadata": {},
   "outputs": [],
   "source": [
    "import bar_chart_race_cn as bcr\n",
    "\n",
    "bcr.bar_chart_race(\n",
    "    df=confirmed_df, \n",
    "    filename='./videos/covid19.mp4', \n",
    "    title='新冠肺炎全球疫情变化-累计感染人数', \n",
    "    n_bars=15,\n",
    "    dpi=300)"
   ]
  },
  {
   "cell_type": "code",
   "execution_count": 26,
   "metadata": {},
   "outputs": [],
   "source": [
    "bcr.bar_chart_race(\n",
    "    df=cured_df, \n",
    "    filename='./videos/covid19_cure.mp4', \n",
    "    title='新冠肺炎全球疫情变化-患者恢复数量', \n",
    "    n_bars=15,\n",
    "    dpi=300)"
   ]
  },
  {
   "source": [
    "数据来源：https://github.com/canghailan/Wuhan-2019-nCoV"
   ],
   "cell_type": "markdown",
   "metadata": {}
  }
 ]
}